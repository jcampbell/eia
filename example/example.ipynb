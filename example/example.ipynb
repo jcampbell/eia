{
 "cells": [
  {
   "cell_type": "code",
   "execution_count": 1,
   "metadata": {},
   "outputs": [],
   "source": [
    "from eia_client import Client"
   ]
  },
  {
   "cell_type": "code",
   "execution_count": 2,
   "metadata": {},
   "outputs": [],
   "source": [
    "client = Client()"
   ]
  },
  {
   "cell_type": "code",
   "execution_count": 3,
   "metadata": {},
   "outputs": [
    {
     "data": {
      "text/plain": [
       "[RouteInfo(id='retail-sales', name='Electricity Sales to Ultimate Customers', description='Electricity sales to ultimate customer by state and sector (number of customers, average price, revenue, and megawatthours of sales).  \\n    Sources: Forms EIA-826, EIA-861, EIA-861M'),\n",
       " RouteInfo(id='electric-power-operational-data', name='Electric Power Operations (Annual and Monthly)', description='Monthly and annual electric power operations by state, sector, and energy source.\\n    Source: Form EIA-923'),\n",
       " RouteInfo(id='rto', name='Electric Power Operations (Daily and Hourly)', description='Hourly and daily electric power operations by balancing authority.  \\n    Source: Form EIA-930'),\n",
       " RouteInfo(id='state-electricity-profiles', name='State Specific Data', description='State Specific Data'),\n",
       " RouteInfo(id='operating-generator-capacity', name='Inventory of Operable Generators', description='Inventory of operable generators in the U.S.\\n    Source: Forms EIA-860, EIA-860M'),\n",
       " RouteInfo(id='facility-fuel', name='Electric Power Operations for Individual Power Plants (Annual and Monthly)', description='Annual and monthly electric power operations for individual power plants, by energy source and prime mover\\n    Source: Form EIA-923')]"
      ]
     },
     "execution_count": 3,
     "metadata": {},
     "output_type": "execute_result"
    }
   ],
   "source": [
    "# Dataset Info includes all non-leaf-node data series (i.e. parents of other datasets or of series)\n",
    "electricity = client.dataset_info(\"electricity\")\n",
    "electricity.routes"
   ]
  },
  {
   "cell_type": "code",
   "execution_count": 4,
   "metadata": {},
   "outputs": [
    {
     "data": {
      "text/plain": [
       "{'generation': DataInfo(alias='Utility Scale Electricity Net Generation', units=None),\n",
       " 'total-consumption': DataInfo(alias='Consumption of Fuels for Electricity Generation and Useful Thermal Output (Physical Units)', units=None),\n",
       " 'consumption-for-eg': DataInfo(alias='Consumption of Fuels for Electricity Generation (Physical Units)', units=None),\n",
       " 'consumption-uto': DataInfo(alias='Consumption of Fuels for Useful Thermal Output (Physical Units)', units=None),\n",
       " 'total-consumption-btu': DataInfo(alias='Consumption of Fuels for Electricity Generation and Useful Thermal Output (BTUs)', units=None),\n",
       " 'consumption-for-eg-btu': DataInfo(alias='Consumption of Fuels for Electricity Generation (BTUs)', units=None),\n",
       " 'consumption-uto-btu': DataInfo(alias='Consumption of Fuels for Useful Thermal Output (BTUs)', units=None),\n",
       " 'stocks': DataInfo(alias='Stocks of Fuel (Physical Units)', units=None),\n",
       " 'receipts': DataInfo(alias='Receipts of Fuel (Physical Units)', units=None),\n",
       " 'receipts-btu': DataInfo(alias='Receipts of Fuel (BTUs)', units=None),\n",
       " 'cost': DataInfo(alias='Average Cost of Fuels (per Physical Unit)', units=None),\n",
       " 'cost-per-btu': DataInfo(alias='Average Cost of Fuels (per BTU)', units=None),\n",
       " 'sulfur-content': DataInfo(alias='Average Sulfur Content of Consumed Fuel', units=None),\n",
       " 'ash-content': DataInfo(alias='Average Ash Content of Consumed Fuel', units=None),\n",
       " 'heat-content': DataInfo(alias='Average Heat Content of Consumed Fuels', units=None)}"
      ]
     },
     "execution_count": 4,
     "metadata": {},
     "output_type": "execute_result"
    }
   ],
   "source": [
    "# Series Info includes data series with specific data elements and facets\n",
    "operational = client.series_info(\"electricity/electric-power-operational-data\")\n",
    "operational.data"
   ]
  },
  {
   "cell_type": "code",
   "execution_count": 5,
   "metadata": {},
   "outputs": [
    {
     "data": {
      "text/plain": [
       "[FacetInfo(id='location', description='State / Census Region'),\n",
       " FacetInfo(id='sectorid', description='Sector'),\n",
       " FacetInfo(id='fueltypeid', description='Energy Source')]"
      ]
     },
     "execution_count": 5,
     "metadata": {},
     "output_type": "execute_result"
    }
   ],
   "source": [
    "# The response is cached, so the second call is much faster\n",
    "operational = client.series_info(\"electricity/electric-power-operational-data\")\n",
    "operational.facets"
   ]
  },
  {
   "cell_type": "code",
   "execution_count": 6,
   "metadata": {},
   "outputs": [
    {
     "name": "stderr",
     "output_type": "stream",
     "text": [
      "Fetching data for electricity/electric-power-operational-data with offset 0\n",
      "Fetching data for electricity/electric-power-operational-data with offset 5000\n",
      "Fetching data for electricity/electric-power-operational-data with offset 10000\n",
      "Fetching data for electricity/electric-power-operational-data with offset 15000\n",
      "Fetching data for electricity/electric-power-operational-data with offset 20000\n",
      "Fetching data for electricity/electric-power-operational-data with offset 25000\n",
      "Fetching data for electricity/electric-power-operational-data with offset 30000\n",
      "Fetching data for electricity/electric-power-operational-data with offset 35000\n",
      "Fetching data for electricity/electric-power-operational-data with offset 40000\n",
      "Fetching data for electricity/electric-power-operational-data with offset 45000\n",
      "Fetching data for electricity/electric-power-operational-data with offset 50000\n",
      "Fetching data for electricity/electric-power-operational-data with offset 55000\n",
      "Fetching data for electricity/electric-power-operational-data with offset 60000\n",
      "Fetching data for electricity/electric-power-operational-data with offset 65000\n",
      "Fetching data for electricity/electric-power-operational-data with offset 70000\n"
     ]
    }
   ],
   "source": [
    "# Getting data returns a dataframe object\n",
    "df = client.get(\"electricity/electric-power-operational-data\", data=[\"generation\", \"total-consumption\"], facets={\"fueltypeid\": [\"SUB\"]})"
   ]
  },
  {
   "cell_type": "code",
   "execution_count": 8,
   "metadata": {},
   "outputs": [
    {
     "data": {
      "text/html": [
       "<div>\n",
       "<style scoped>\n",
       "    .dataframe tbody tr th:only-of-type {\n",
       "        vertical-align: middle;\n",
       "    }\n",
       "\n",
       "    .dataframe tbody tr th {\n",
       "        vertical-align: top;\n",
       "    }\n",
       "\n",
       "    .dataframe thead th {\n",
       "        text-align: right;\n",
       "    }\n",
       "</style>\n",
       "<table border=\"1\" class=\"dataframe\">\n",
       "  <thead>\n",
       "    <tr style=\"text-align: right;\">\n",
       "      <th></th>\n",
       "      <th>period</th>\n",
       "      <th>location</th>\n",
       "      <th>stateDescription</th>\n",
       "      <th>sectorid</th>\n",
       "      <th>sectorDescription</th>\n",
       "      <th>fueltypeid</th>\n",
       "      <th>fuelTypeDescription</th>\n",
       "      <th>generation</th>\n",
       "      <th>generation-units</th>\n",
       "      <th>total-consumption</th>\n",
       "      <th>total-consumption-units</th>\n",
       "    </tr>\n",
       "  </thead>\n",
       "  <tbody>\n",
       "    <tr>\n",
       "      <th>0</th>\n",
       "      <td>2022-12</td>\n",
       "      <td>OH</td>\n",
       "      <td>Ohio</td>\n",
       "      <td>99</td>\n",
       "      <td>All Sectors</td>\n",
       "      <td>SUB</td>\n",
       "      <td>subbituminous coal</td>\n",
       "      <td>38.14917</td>\n",
       "      <td>thousand megawatthours</td>\n",
       "      <td>16.448</td>\n",
       "      <td>thousand short tons</td>\n",
       "    </tr>\n",
       "    <tr>\n",
       "      <th>1</th>\n",
       "      <td>2022-11</td>\n",
       "      <td>MO</td>\n",
       "      <td>Missouri</td>\n",
       "      <td>1</td>\n",
       "      <td>Electric Utility</td>\n",
       "      <td>SUB</td>\n",
       "      <td>subbituminous coal</td>\n",
       "      <td>2392.41242</td>\n",
       "      <td>thousand megawatthours</td>\n",
       "      <td>1409.334</td>\n",
       "      <td>thousand short tons</td>\n",
       "    </tr>\n",
       "    <tr>\n",
       "      <th>2</th>\n",
       "      <td>2022-11</td>\n",
       "      <td>KY</td>\n",
       "      <td>Kentucky</td>\n",
       "      <td>98</td>\n",
       "      <td>Electric Power</td>\n",
       "      <td>SUB</td>\n",
       "      <td>subbituminous coal</td>\n",
       "      <td>729.52632</td>\n",
       "      <td>thousand megawatthours</td>\n",
       "      <td>449.992</td>\n",
       "      <td>thousand short tons</td>\n",
       "    </tr>\n",
       "    <tr>\n",
       "      <th>3</th>\n",
       "      <td>2021-08</td>\n",
       "      <td>ENC</td>\n",
       "      <td>East North Central</td>\n",
       "      <td>1</td>\n",
       "      <td>Electric Utility</td>\n",
       "      <td>SUB</td>\n",
       "      <td>subbituminous coal</td>\n",
       "      <td>2888.14841</td>\n",
       "      <td>thousand megawatthours</td>\n",
       "      <td>1792.265</td>\n",
       "      <td>thousand short tons</td>\n",
       "    </tr>\n",
       "    <tr>\n",
       "      <th>4</th>\n",
       "      <td>2021-08</td>\n",
       "      <td>ENC</td>\n",
       "      <td>East North Central</td>\n",
       "      <td>2</td>\n",
       "      <td>IPP Non-CHP</td>\n",
       "      <td>SUB</td>\n",
       "      <td>subbituminous coal</td>\n",
       "      <td>1923.01959</td>\n",
       "      <td>thousand megawatthours</td>\n",
       "      <td>1225.726</td>\n",
       "      <td>thousand short tons</td>\n",
       "    </tr>\n",
       "    <tr>\n",
       "      <th>...</th>\n",
       "      <td>...</td>\n",
       "      <td>...</td>\n",
       "      <td>...</td>\n",
       "      <td>...</td>\n",
       "      <td>...</td>\n",
       "      <td>...</td>\n",
       "      <td>...</td>\n",
       "      <td>...</td>\n",
       "      <td>...</td>\n",
       "      <td>...</td>\n",
       "      <td>...</td>\n",
       "    </tr>\n",
       "    <tr>\n",
       "      <th>4168</th>\n",
       "      <td>2021-10</td>\n",
       "      <td>MT</td>\n",
       "      <td>Montana</td>\n",
       "      <td>2</td>\n",
       "      <td>IPP Non-CHP</td>\n",
       "      <td>SUB</td>\n",
       "      <td>subbituminous coal</td>\n",
       "      <td>1016.50613</td>\n",
       "      <td>thousand megawatthours</td>\n",
       "      <td>630.493</td>\n",
       "      <td>thousand short tons</td>\n",
       "    </tr>\n",
       "    <tr>\n",
       "      <th>4169</th>\n",
       "      <td>2021-02</td>\n",
       "      <td>WY</td>\n",
       "      <td>Wyoming</td>\n",
       "      <td>1</td>\n",
       "      <td>Electric Utility</td>\n",
       "      <td>SUB</td>\n",
       "      <td>subbituminous coal</td>\n",
       "      <td>1431.71467</td>\n",
       "      <td>thousand megawatthours</td>\n",
       "      <td>900.004</td>\n",
       "      <td>thousand short tons</td>\n",
       "    </tr>\n",
       "    <tr>\n",
       "      <th>4170</th>\n",
       "      <td>2022-12</td>\n",
       "      <td>SD</td>\n",
       "      <td>South Dakota</td>\n",
       "      <td>1</td>\n",
       "      <td>Electric Utility</td>\n",
       "      <td>SUB</td>\n",
       "      <td>subbituminous coal</td>\n",
       "      <td>0.00000</td>\n",
       "      <td>thousand megawatthours</td>\n",
       "      <td>0.158</td>\n",
       "      <td>thousand short tons</td>\n",
       "    </tr>\n",
       "    <tr>\n",
       "      <th>4171</th>\n",
       "      <td>2021-02</td>\n",
       "      <td>IL</td>\n",
       "      <td>Illinois</td>\n",
       "      <td>2</td>\n",
       "      <td>IPP Non-CHP</td>\n",
       "      <td>SUB</td>\n",
       "      <td>subbituminous coal</td>\n",
       "      <td>1064.28639</td>\n",
       "      <td>thousand megawatthours</td>\n",
       "      <td>683.059</td>\n",
       "      <td>thousand short tons</td>\n",
       "    </tr>\n",
       "    <tr>\n",
       "      <th>4172</th>\n",
       "      <td>2021-10</td>\n",
       "      <td>MT</td>\n",
       "      <td>Montana</td>\n",
       "      <td>7</td>\n",
       "      <td>Industrial CHP</td>\n",
       "      <td>SUB</td>\n",
       "      <td>subbituminous coal</td>\n",
       "      <td>0.45031</td>\n",
       "      <td>thousand megawatthours</td>\n",
       "      <td>4.897</td>\n",
       "      <td>thousand short tons</td>\n",
       "    </tr>\n",
       "  </tbody>\n",
       "</table>\n",
       "<p>74173 rows × 11 columns</p>\n",
       "</div>"
      ],
      "text/plain": [
       "       period location    stateDescription  sectorid sectorDescription   \n",
       "0     2022-12       OH                Ohio        99       All Sectors  \\\n",
       "1     2022-11       MO            Missouri         1  Electric Utility   \n",
       "2     2022-11       KY            Kentucky        98    Electric Power   \n",
       "3     2021-08      ENC  East North Central         1  Electric Utility   \n",
       "4     2021-08      ENC  East North Central         2       IPP Non-CHP   \n",
       "...       ...      ...                 ...       ...               ...   \n",
       "4168  2021-10       MT             Montana         2       IPP Non-CHP   \n",
       "4169  2021-02       WY             Wyoming         1  Electric Utility   \n",
       "4170  2022-12       SD        South Dakota         1  Electric Utility   \n",
       "4171  2021-02       IL            Illinois         2       IPP Non-CHP   \n",
       "4172  2021-10       MT             Montana         7    Industrial CHP   \n",
       "\n",
       "     fueltypeid fuelTypeDescription  generation        generation-units   \n",
       "0           SUB  subbituminous coal    38.14917  thousand megawatthours  \\\n",
       "1           SUB  subbituminous coal  2392.41242  thousand megawatthours   \n",
       "2           SUB  subbituminous coal   729.52632  thousand megawatthours   \n",
       "3           SUB  subbituminous coal  2888.14841  thousand megawatthours   \n",
       "4           SUB  subbituminous coal  1923.01959  thousand megawatthours   \n",
       "...         ...                 ...         ...                     ...   \n",
       "4168        SUB  subbituminous coal  1016.50613  thousand megawatthours   \n",
       "4169        SUB  subbituminous coal  1431.71467  thousand megawatthours   \n",
       "4170        SUB  subbituminous coal     0.00000  thousand megawatthours   \n",
       "4171        SUB  subbituminous coal  1064.28639  thousand megawatthours   \n",
       "4172        SUB  subbituminous coal     0.45031  thousand megawatthours   \n",
       "\n",
       "      total-consumption total-consumption-units  \n",
       "0                16.448     thousand short tons  \n",
       "1              1409.334     thousand short tons  \n",
       "2               449.992     thousand short tons  \n",
       "3              1792.265     thousand short tons  \n",
       "4              1225.726     thousand short tons  \n",
       "...                 ...                     ...  \n",
       "4168            630.493     thousand short tons  \n",
       "4169            900.004     thousand short tons  \n",
       "4170              0.158     thousand short tons  \n",
       "4171            683.059     thousand short tons  \n",
       "4172              4.897     thousand short tons  \n",
       "\n",
       "[74173 rows x 11 columns]"
      ]
     },
     "execution_count": 8,
     "metadata": {},
     "output_type": "execute_result"
    }
   ],
   "source": [
    "df"
   ]
  },
  {
   "cell_type": "code",
   "execution_count": 19,
   "metadata": {},
   "outputs": [
    {
     "name": "stderr",
     "output_type": "stream",
     "text": [
      "Fetching data for electricity/electric-power-operational-data with offset 0\n"
     ]
    },
    {
     "ename": "KeyError",
     "evalue": "'sector'",
     "output_type": "error",
     "traceback": [
      "\u001b[0;31m---------------------------------------------------------------------------\u001b[0m",
      "\u001b[0;31mKeyError\u001b[0m                                  Traceback (most recent call last)",
      "Cell \u001b[0;32mIn[19], line 1\u001b[0m\n\u001b[0;32m----> 1\u001b[0m df2 \u001b[39m=\u001b[39m client\u001b[39m.\u001b[39;49mget(\u001b[39m\"\u001b[39;49m\u001b[39melectricity/electric-power-operational-data\u001b[39;49m\u001b[39m\"\u001b[39;49m, data\u001b[39m=\u001b[39;49m[\u001b[39m\"\u001b[39;49m\u001b[39mgeneration\u001b[39;49m\u001b[39m\"\u001b[39;49m, \u001b[39m\"\u001b[39;49m\u001b[39mtotal-consumption\u001b[39;49m\u001b[39m\"\u001b[39;49m], facets\u001b[39m=\u001b[39;49m{\u001b[39m\"\u001b[39;49m\u001b[39mfueltypeid\u001b[39;49m\u001b[39m\"\u001b[39;49m: [\u001b[39m\"\u001b[39;49m\u001b[39mSUB\u001b[39;49m\u001b[39m\"\u001b[39;49m], \u001b[39m\"\u001b[39;49m\u001b[39mlocation\u001b[39;49m\u001b[39m\"\u001b[39;49m: [\u001b[39m\"\u001b[39;49m\u001b[39mNC\u001b[39;49m\u001b[39m\"\u001b[39;49m], \u001b[39m\"\u001b[39;49m\u001b[39msector\u001b[39;49m\u001b[39m\"\u001b[39;49m: [\u001b[39m\"\u001b[39;49m\u001b[39m99\u001b[39;49m\u001b[39m\"\u001b[39;49m]})\n",
      "File \u001b[0;32m~/src/github.com/jcampbell/eia-client/eia_client/client.py:274\u001b[0m, in \u001b[0;36mClient.get\u001b[0;34m(self, series, data, frequency, facets, sort, offset, length, start, end)\u001b[0m\n\u001b[1;32m    272\u001b[0m \u001b[39mwhile\u001b[39;00m check_for_more_results:\n\u001b[1;32m    273\u001b[0m     logger\u001b[39m.\u001b[39mwarning(\u001b[39mf\u001b[39m\u001b[39m\"\u001b[39m\u001b[39mFetching data for \u001b[39m\u001b[39m{\u001b[39;00mseries\u001b[39m}\u001b[39;00m\u001b[39m with offset \u001b[39m\u001b[39m{\u001b[39;00moffset\u001b[39m}\u001b[39;00m\u001b[39m\"\u001b[39m)\n\u001b[0;32m--> 274\u001b[0m     params \u001b[39m=\u001b[39m \u001b[39mself\u001b[39;49m\u001b[39m.\u001b[39;49m_build_api_params(info, frequency, data, facets, sort, offset, length, start, end) \u001b[39m# type: ignore\u001b[39;00m\n\u001b[1;32m    275\u001b[0m     df \u001b[39m=\u001b[39m \u001b[39mself\u001b[39m\u001b[39m.\u001b[39m_get_data(series, params\u001b[39m=\u001b[39mparams, show_warnings\u001b[39m=\u001b[39m\u001b[39mFalse\u001b[39;00m)\n\u001b[1;32m    276\u001b[0m     \u001b[39mif\u001b[39;00m \u001b[39mlen\u001b[39m(df) \u001b[39m<\u001b[39m length:\n",
      "File \u001b[0;32m~/src/github.com/jcampbell/eia-client/eia_client/client.py:206\u001b[0m, in \u001b[0;36mClient._build_api_params\u001b[0;34m(self, info, frequency, data, facets, sort, offset, length, start, end)\u001b[0m\n\u001b[1;32m    204\u001b[0m         \u001b[39mcontinue\u001b[39;00m\n\u001b[1;32m    205\u001b[0m     \u001b[39mfor\u001b[39;00m value \u001b[39min\u001b[39;00m facet\u001b[39m.\u001b[39mvalues:\n\u001b[0;32m--> 206\u001b[0m         \u001b[39mif\u001b[39;00m value \u001b[39mnot\u001b[39;00m \u001b[39min\u001b[39;00m [option\u001b[39m.\u001b[39mid \u001b[39mfor\u001b[39;00m option \u001b[39min\u001b[39;00m info\u001b[39m.\u001b[39;49mfacet_options[facet\u001b[39m.\u001b[39;49mid]]:\n\u001b[1;32m    207\u001b[0m             errors\u001b[39m.\u001b[39mappend(\u001b[39mValueError\u001b[39;00m(\u001b[39mf\u001b[39m\u001b[39m\"\u001b[39m\u001b[39mFacet value \u001b[39m\u001b[39m{\u001b[39;00mvalue\u001b[39m}\u001b[39;00m\u001b[39m not available for facet \u001b[39m\u001b[39m{\u001b[39;00mfacet\u001b[39m.\u001b[39mid\u001b[39m}\u001b[39;00m\u001b[39m\"\u001b[39m))\n\u001b[1;32m    208\u001b[0m \u001b[39mif\u001b[39;00m offset \u001b[39m<\u001b[39m \u001b[39m0\u001b[39m:\n",
      "\u001b[0;31mKeyError\u001b[0m: 'sector'"
     ]
    }
   ],
   "source": [
    "df2 = client.get(\"electricity/electric-power-operational-data\", data=[\"generation\", \"total-consumption\"], facets={\"fueltypeid\": [\"SUB\"], \"location\": [\"NC\"], \"sector\": [\"99\"]})"
   ]
  },
  {
   "cell_type": "code",
   "execution_count": 10,
   "metadata": {},
   "outputs": [
    {
     "data": {
      "text/html": [
       "<div>\n",
       "<style scoped>\n",
       "    .dataframe tbody tr th:only-of-type {\n",
       "        vertical-align: middle;\n",
       "    }\n",
       "\n",
       "    .dataframe tbody tr th {\n",
       "        vertical-align: top;\n",
       "    }\n",
       "\n",
       "    .dataframe thead th {\n",
       "        text-align: right;\n",
       "    }\n",
       "</style>\n",
       "<table border=\"1\" class=\"dataframe\">\n",
       "  <thead>\n",
       "    <tr style=\"text-align: right;\">\n",
       "      <th></th>\n",
       "      <th>period</th>\n",
       "      <th>location</th>\n",
       "      <th>stateDescription</th>\n",
       "      <th>sectorid</th>\n",
       "      <th>sectorDescription</th>\n",
       "      <th>fueltypeid</th>\n",
       "      <th>fuelTypeDescription</th>\n",
       "      <th>generation</th>\n",
       "      <th>generation-units</th>\n",
       "      <th>total-consumption</th>\n",
       "      <th>total-consumption-units</th>\n",
       "    </tr>\n",
       "  </thead>\n",
       "  <tbody>\n",
       "    <tr>\n",
       "      <th>0</th>\n",
       "      <td>2005-05</td>\n",
       "      <td>NC</td>\n",
       "      <td>North Carolina</td>\n",
       "      <td>99</td>\n",
       "      <td>All Sectors</td>\n",
       "      <td>SUB</td>\n",
       "      <td>subbituminous coal</td>\n",
       "      <td>None</td>\n",
       "      <td>thousand megawatthours</td>\n",
       "      <td>None</td>\n",
       "      <td>thousand short tons</td>\n",
       "    </tr>\n",
       "    <tr>\n",
       "      <th>1</th>\n",
       "      <td>2005-05</td>\n",
       "      <td>NC</td>\n",
       "      <td>North Carolina</td>\n",
       "      <td>90</td>\n",
       "      <td>Electric Power Sector Non-CHP</td>\n",
       "      <td>SUB</td>\n",
       "      <td>subbituminous coal</td>\n",
       "      <td>None</td>\n",
       "      <td>thousand megawatthours</td>\n",
       "      <td>None</td>\n",
       "      <td>thousand short tons</td>\n",
       "    </tr>\n",
       "    <tr>\n",
       "      <th>2</th>\n",
       "      <td>2005-06</td>\n",
       "      <td>NC</td>\n",
       "      <td>North Carolina</td>\n",
       "      <td>98</td>\n",
       "      <td>Electric Power</td>\n",
       "      <td>SUB</td>\n",
       "      <td>subbituminous coal</td>\n",
       "      <td>None</td>\n",
       "      <td>thousand megawatthours</td>\n",
       "      <td>None</td>\n",
       "      <td>thousand short tons</td>\n",
       "    </tr>\n",
       "    <tr>\n",
       "      <th>3</th>\n",
       "      <td>2005-06</td>\n",
       "      <td>NC</td>\n",
       "      <td>North Carolina</td>\n",
       "      <td>90</td>\n",
       "      <td>Electric Power Sector Non-CHP</td>\n",
       "      <td>SUB</td>\n",
       "      <td>subbituminous coal</td>\n",
       "      <td>None</td>\n",
       "      <td>thousand megawatthours</td>\n",
       "      <td>None</td>\n",
       "      <td>thousand short tons</td>\n",
       "    </tr>\n",
       "    <tr>\n",
       "      <th>4</th>\n",
       "      <td>2005-05</td>\n",
       "      <td>NC</td>\n",
       "      <td>North Carolina</td>\n",
       "      <td>98</td>\n",
       "      <td>Electric Power</td>\n",
       "      <td>SUB</td>\n",
       "      <td>subbituminous coal</td>\n",
       "      <td>None</td>\n",
       "      <td>thousand megawatthours</td>\n",
       "      <td>None</td>\n",
       "      <td>thousand short tons</td>\n",
       "    </tr>\n",
       "    <tr>\n",
       "      <th>5</th>\n",
       "      <td>2005-05</td>\n",
       "      <td>NC</td>\n",
       "      <td>North Carolina</td>\n",
       "      <td>1</td>\n",
       "      <td>Electric Utility</td>\n",
       "      <td>SUB</td>\n",
       "      <td>subbituminous coal</td>\n",
       "      <td>None</td>\n",
       "      <td>thousand megawatthours</td>\n",
       "      <td>None</td>\n",
       "      <td>thousand short tons</td>\n",
       "    </tr>\n",
       "    <tr>\n",
       "      <th>6</th>\n",
       "      <td>2005-06</td>\n",
       "      <td>NC</td>\n",
       "      <td>North Carolina</td>\n",
       "      <td>99</td>\n",
       "      <td>All Sectors</td>\n",
       "      <td>SUB</td>\n",
       "      <td>subbituminous coal</td>\n",
       "      <td>None</td>\n",
       "      <td>thousand megawatthours</td>\n",
       "      <td>None</td>\n",
       "      <td>thousand short tons</td>\n",
       "    </tr>\n",
       "    <tr>\n",
       "      <th>7</th>\n",
       "      <td>2005-06</td>\n",
       "      <td>NC</td>\n",
       "      <td>North Carolina</td>\n",
       "      <td>1</td>\n",
       "      <td>Electric Utility</td>\n",
       "      <td>SUB</td>\n",
       "      <td>subbituminous coal</td>\n",
       "      <td>None</td>\n",
       "      <td>thousand megawatthours</td>\n",
       "      <td>None</td>\n",
       "      <td>thousand short tons</td>\n",
       "    </tr>\n",
       "  </tbody>\n",
       "</table>\n",
       "</div>"
      ],
      "text/plain": [
       "    period location stateDescription  sectorid              sectorDescription   \n",
       "0  2005-05       NC   North Carolina        99                    All Sectors  \\\n",
       "1  2005-05       NC   North Carolina        90  Electric Power Sector Non-CHP   \n",
       "2  2005-06       NC   North Carolina        98                 Electric Power   \n",
       "3  2005-06       NC   North Carolina        90  Electric Power Sector Non-CHP   \n",
       "4  2005-05       NC   North Carolina        98                 Electric Power   \n",
       "5  2005-05       NC   North Carolina         1               Electric Utility   \n",
       "6  2005-06       NC   North Carolina        99                    All Sectors   \n",
       "7  2005-06       NC   North Carolina         1               Electric Utility   \n",
       "\n",
       "  fueltypeid fuelTypeDescription generation        generation-units   \n",
       "0        SUB  subbituminous coal       None  thousand megawatthours  \\\n",
       "1        SUB  subbituminous coal       None  thousand megawatthours   \n",
       "2        SUB  subbituminous coal       None  thousand megawatthours   \n",
       "3        SUB  subbituminous coal       None  thousand megawatthours   \n",
       "4        SUB  subbituminous coal       None  thousand megawatthours   \n",
       "5        SUB  subbituminous coal       None  thousand megawatthours   \n",
       "6        SUB  subbituminous coal       None  thousand megawatthours   \n",
       "7        SUB  subbituminous coal       None  thousand megawatthours   \n",
       "\n",
       "  total-consumption total-consumption-units  \n",
       "0              None     thousand short tons  \n",
       "1              None     thousand short tons  \n",
       "2              None     thousand short tons  \n",
       "3              None     thousand short tons  \n",
       "4              None     thousand short tons  \n",
       "5              None     thousand short tons  \n",
       "6              None     thousand short tons  \n",
       "7              None     thousand short tons  "
      ]
     },
     "execution_count": 10,
     "metadata": {},
     "output_type": "execute_result"
    }
   ],
   "source": [
    "df2"
   ]
  },
  {
   "cell_type": "code",
   "execution_count": 13,
   "metadata": {},
   "outputs": [
    {
     "data": {
      "text/plain": [
       "False"
      ]
     },
     "execution_count": 13,
     "metadata": {},
     "output_type": "execute_result"
    }
   ],
   "source": [
    "df[df[\"location\"] == \"NC\"].equals(df2)"
   ]
  },
  {
   "cell_type": "code",
   "execution_count": 18,
   "metadata": {},
   "outputs": [
    {
     "data": {
      "text/plain": [
       "False"
      ]
     },
     "execution_count": 18,
     "metadata": {},
     "output_type": "execute_result"
    }
   ],
   "source": [
    "df[df[\"location\"] == \"NC\"].reset_index().equals(df2)"
   ]
  },
  {
   "cell_type": "code",
   "execution_count": 15,
   "metadata": {},
   "outputs": [
    {
     "data": {
      "text/plain": [
       "8"
      ]
     },
     "execution_count": 15,
     "metadata": {},
     "output_type": "execute_result"
    }
   ],
   "source": [
    "len(df2)"
   ]
  },
  {
   "cell_type": "code",
   "execution_count": null,
   "metadata": {},
   "outputs": [],
   "source": []
  }
 ],
 "metadata": {
  "kernelspec": {
   "display_name": "eia-client-NsOqrQbS",
   "language": "python",
   "name": "python3"
  },
  "language_info": {
   "codemirror_mode": {
    "name": "ipython",
    "version": 3
   },
   "file_extension": ".py",
   "mimetype": "text/x-python",
   "name": "python",
   "nbconvert_exporter": "python",
   "pygments_lexer": "ipython3",
   "version": "3.11.3"
  },
  "orig_nbformat": 4
 },
 "nbformat": 4,
 "nbformat_minor": 2
}
