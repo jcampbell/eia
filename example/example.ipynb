{
 "cells": [
  {
   "cell_type": "code",
   "execution_count": 1,
   "metadata": {},
   "outputs": [],
   "source": [
    "from eia_client import Client"
   ]
  },
  {
   "cell_type": "code",
   "execution_count": 2,
   "metadata": {},
   "outputs": [],
   "source": [
    "client = Client()"
   ]
  },
  {
   "cell_type": "code",
   "execution_count": 3,
   "metadata": {},
   "outputs": [
    {
     "data": {
      "text/plain": [
       "[RouteInfo(id='retail-sales', name='Electricity Sales to Ultimate Customers', description='Electricity sales to ultimate customer by state and sector (number of customers, average price, revenue, and megawatthours of sales).  \\n    Sources: Forms EIA-826, EIA-861, EIA-861M'),\n",
       " RouteInfo(id='electric-power-operational-data', name='Electric Power Operations (Annual and Monthly)', description='Monthly and annual electric power operations by state, sector, and energy source.\\n    Source: Form EIA-923'),\n",
       " RouteInfo(id='rto', name='Electric Power Operations (Daily and Hourly)', description='Hourly and daily electric power operations by balancing authority.  \\n    Source: Form EIA-930'),\n",
       " RouteInfo(id='state-electricity-profiles', name='State Specific Data', description='State Specific Data'),\n",
       " RouteInfo(id='operating-generator-capacity', name='Inventory of Operable Generators', description='Inventory of operable generators in the U.S.\\n    Source: Forms EIA-860, EIA-860M'),\n",
       " RouteInfo(id='facility-fuel', name='Electric Power Operations for Individual Power Plants (Annual and Monthly)', description='Annual and monthly electric power operations for individual power plants, by energy source and prime mover\\n    Source: Form EIA-923')]"
      ]
     },
     "execution_count": 3,
     "metadata": {},
     "output_type": "execute_result"
    }
   ],
   "source": [
    "# Dataset Info includes all non-leaf-node data series (i.e. parents of other datasets or of series)\n",
    "electricity = client.dataset_info(\"electricity\")\n",
    "electricity.routes"
   ]
  },
  {
   "cell_type": "code",
   "execution_count": 4,
   "metadata": {},
   "outputs": [
    {
     "data": {
      "text/plain": [
       "{'generation': DataInfo(alias='Utility Scale Electricity Net Generation', units=None),\n",
       " 'total-consumption': DataInfo(alias='Consumption of Fuels for Electricity Generation and Useful Thermal Output (Physical Units)', units=None),\n",
       " 'consumption-for-eg': DataInfo(alias='Consumption of Fuels for Electricity Generation (Physical Units)', units=None),\n",
       " 'consumption-uto': DataInfo(alias='Consumption of Fuels for Useful Thermal Output (Physical Units)', units=None),\n",
       " 'total-consumption-btu': DataInfo(alias='Consumption of Fuels for Electricity Generation and Useful Thermal Output (BTUs)', units=None),\n",
       " 'consumption-for-eg-btu': DataInfo(alias='Consumption of Fuels for Electricity Generation (BTUs)', units=None),\n",
       " 'consumption-uto-btu': DataInfo(alias='Consumption of Fuels for Useful Thermal Output (BTUs)', units=None),\n",
       " 'stocks': DataInfo(alias='Stocks of Fuel (Physical Units)', units=None),\n",
       " 'receipts': DataInfo(alias='Receipts of Fuel (Physical Units)', units=None),\n",
       " 'receipts-btu': DataInfo(alias='Receipts of Fuel (BTUs)', units=None),\n",
       " 'cost': DataInfo(alias='Average Cost of Fuels (per Physical Unit)', units=None),\n",
       " 'cost-per-btu': DataInfo(alias='Average Cost of Fuels (per BTU)', units=None),\n",
       " 'sulfur-content': DataInfo(alias='Average Sulfur Content of Consumed Fuel', units=None),\n",
       " 'ash-content': DataInfo(alias='Average Ash Content of Consumed Fuel', units=None),\n",
       " 'heat-content': DataInfo(alias='Average Heat Content of Consumed Fuels', units=None)}"
      ]
     },
     "execution_count": 4,
     "metadata": {},
     "output_type": "execute_result"
    }
   ],
   "source": [
    "# Series Info includes data series with specific data elements and facets\n",
    "operational = client.series_info(\"electricity/electric-power-operational-data\")\n",
    "operational.data"
   ]
  },
  {
   "cell_type": "code",
   "execution_count": 5,
   "metadata": {},
   "outputs": [
    {
     "data": {
      "text/plain": [
       "[FacetInfo(id='location', description='State / Census Region'),\n",
       " FacetInfo(id='sectorid', description='Sector'),\n",
       " FacetInfo(id='fueltypeid', description='Energy Source')]"
      ]
     },
     "execution_count": 5,
     "metadata": {},
     "output_type": "execute_result"
    }
   ],
   "source": [
    "# The response is cached, so the second call is much faster\n",
    "operational = client.series_info(\"electricity/electric-power-operational-data\")\n",
    "operational.facets"
   ]
  },
  {
   "cell_type": "code",
   "execution_count": 6,
   "metadata": {},
   "outputs": [],
   "source": [
    "# Getting data returns a dataframe object\n",
    "df = client.get(\"electricity/electric-power-operational-data\", data=[\"generation\", \"total-consumption\"], facets={\"fueltypeid\": [\"SUB\"]})"
   ]
  },
  {
   "cell_type": "code",
   "execution_count": 7,
   "metadata": {},
   "outputs": [
    {
     "data": {
      "text/html": [
       "<div>\n",
       "<style scoped>\n",
       "    .dataframe tbody tr th:only-of-type {\n",
       "        vertical-align: middle;\n",
       "    }\n",
       "\n",
       "    .dataframe tbody tr th {\n",
       "        vertical-align: top;\n",
       "    }\n",
       "\n",
       "    .dataframe thead th {\n",
       "        text-align: right;\n",
       "    }\n",
       "</style>\n",
       "<table border=\"1\" class=\"dataframe\">\n",
       "  <thead>\n",
       "    <tr style=\"text-align: right;\">\n",
       "      <th></th>\n",
       "      <th>period</th>\n",
       "      <th>location</th>\n",
       "      <th>stateDescription</th>\n",
       "      <th>sectorid</th>\n",
       "      <th>sectorDescription</th>\n",
       "      <th>fueltypeid</th>\n",
       "      <th>fuelTypeDescription</th>\n",
       "      <th>generation</th>\n",
       "      <th>generation-units</th>\n",
       "      <th>total-consumption</th>\n",
       "      <th>total-consumption-units</th>\n",
       "    </tr>\n",
       "  </thead>\n",
       "  <tbody>\n",
       "    <tr>\n",
       "      <th>0</th>\n",
       "      <td>2022-12</td>\n",
       "      <td>OH</td>\n",
       "      <td>Ohio</td>\n",
       "      <td>99</td>\n",
       "      <td>All Sectors</td>\n",
       "      <td>SUB</td>\n",
       "      <td>subbituminous coal</td>\n",
       "      <td>38.14917</td>\n",
       "      <td>thousand megawatthours</td>\n",
       "      <td>16.448</td>\n",
       "      <td>thousand short tons</td>\n",
       "    </tr>\n",
       "    <tr>\n",
       "      <th>1</th>\n",
       "      <td>2022-11</td>\n",
       "      <td>MO</td>\n",
       "      <td>Missouri</td>\n",
       "      <td>1</td>\n",
       "      <td>Electric Utility</td>\n",
       "      <td>SUB</td>\n",
       "      <td>subbituminous coal</td>\n",
       "      <td>2392.41242</td>\n",
       "      <td>thousand megawatthours</td>\n",
       "      <td>1409.334</td>\n",
       "      <td>thousand short tons</td>\n",
       "    </tr>\n",
       "    <tr>\n",
       "      <th>2</th>\n",
       "      <td>2022-11</td>\n",
       "      <td>KY</td>\n",
       "      <td>Kentucky</td>\n",
       "      <td>98</td>\n",
       "      <td>Electric Power</td>\n",
       "      <td>SUB</td>\n",
       "      <td>subbituminous coal</td>\n",
       "      <td>729.52632</td>\n",
       "      <td>thousand megawatthours</td>\n",
       "      <td>449.992</td>\n",
       "      <td>thousand short tons</td>\n",
       "    </tr>\n",
       "    <tr>\n",
       "      <th>3</th>\n",
       "      <td>2021-08</td>\n",
       "      <td>ENC</td>\n",
       "      <td>East North Central</td>\n",
       "      <td>1</td>\n",
       "      <td>Electric Utility</td>\n",
       "      <td>SUB</td>\n",
       "      <td>subbituminous coal</td>\n",
       "      <td>2888.14841</td>\n",
       "      <td>thousand megawatthours</td>\n",
       "      <td>1792.265</td>\n",
       "      <td>thousand short tons</td>\n",
       "    </tr>\n",
       "    <tr>\n",
       "      <th>4</th>\n",
       "      <td>2021-08</td>\n",
       "      <td>ENC</td>\n",
       "      <td>East North Central</td>\n",
       "      <td>2</td>\n",
       "      <td>IPP Non-CHP</td>\n",
       "      <td>SUB</td>\n",
       "      <td>subbituminous coal</td>\n",
       "      <td>1923.01959</td>\n",
       "      <td>thousand megawatthours</td>\n",
       "      <td>1225.726</td>\n",
       "      <td>thousand short tons</td>\n",
       "    </tr>\n",
       "  </tbody>\n",
       "</table>\n",
       "</div>"
      ],
      "text/plain": [
       "    period location    stateDescription  sectorid sectorDescription   \n",
       "0  2022-12       OH                Ohio        99       All Sectors  \\\n",
       "1  2022-11       MO            Missouri         1  Electric Utility   \n",
       "2  2022-11       KY            Kentucky        98    Electric Power   \n",
       "3  2021-08      ENC  East North Central         1  Electric Utility   \n",
       "4  2021-08      ENC  East North Central         2       IPP Non-CHP   \n",
       "\n",
       "  fueltypeid fuelTypeDescription  generation        generation-units   \n",
       "0        SUB  subbituminous coal    38.14917  thousand megawatthours  \\\n",
       "1        SUB  subbituminous coal  2392.41242  thousand megawatthours   \n",
       "2        SUB  subbituminous coal   729.52632  thousand megawatthours   \n",
       "3        SUB  subbituminous coal  2888.14841  thousand megawatthours   \n",
       "4        SUB  subbituminous coal  1923.01959  thousand megawatthours   \n",
       "\n",
       "   total-consumption total-consumption-units  \n",
       "0             16.448     thousand short tons  \n",
       "1           1409.334     thousand short tons  \n",
       "2            449.992     thousand short tons  \n",
       "3           1792.265     thousand short tons  \n",
       "4           1225.726     thousand short tons  "
      ]
     },
     "execution_count": 7,
     "metadata": {},
     "output_type": "execute_result"
    }
   ],
   "source": [
    "df.head()"
   ]
  },
  {
   "cell_type": "code",
   "execution_count": 8,
   "metadata": {},
   "outputs": [],
   "source": [
    "df = client.get(\n",
    "    \"electricity/electric-power-operational-data\", \n",
    "    data=[\"generation\", \"total-consumption\"], \n",
    "    facets={\"fueltypeid\": [\"SUB\"], \"location\": [\"NC\"], \"sectorid\": [\"99\"]}\n",
    ")"
   ]
  },
  {
   "cell_type": "code",
   "execution_count": 9,
   "metadata": {},
   "outputs": [
    {
     "data": {
      "text/html": [
       "<div>\n",
       "<style scoped>\n",
       "    .dataframe tbody tr th:only-of-type {\n",
       "        vertical-align: middle;\n",
       "    }\n",
       "\n",
       "    .dataframe tbody tr th {\n",
       "        vertical-align: top;\n",
       "    }\n",
       "\n",
       "    .dataframe thead th {\n",
       "        text-align: right;\n",
       "    }\n",
       "</style>\n",
       "<table border=\"1\" class=\"dataframe\">\n",
       "  <thead>\n",
       "    <tr style=\"text-align: right;\">\n",
       "      <th></th>\n",
       "      <th>period</th>\n",
       "      <th>location</th>\n",
       "      <th>stateDescription</th>\n",
       "      <th>sectorid</th>\n",
       "      <th>sectorDescription</th>\n",
       "      <th>fueltypeid</th>\n",
       "      <th>fuelTypeDescription</th>\n",
       "      <th>generation</th>\n",
       "      <th>generation-units</th>\n",
       "      <th>total-consumption</th>\n",
       "      <th>total-consumption-units</th>\n",
       "    </tr>\n",
       "  </thead>\n",
       "  <tbody>\n",
       "    <tr>\n",
       "      <th>0</th>\n",
       "      <td>2005-05</td>\n",
       "      <td>NC</td>\n",
       "      <td>North Carolina</td>\n",
       "      <td>99</td>\n",
       "      <td>All Sectors</td>\n",
       "      <td>SUB</td>\n",
       "      <td>subbituminous coal</td>\n",
       "      <td>None</td>\n",
       "      <td>thousand megawatthours</td>\n",
       "      <td>None</td>\n",
       "      <td>thousand short tons</td>\n",
       "    </tr>\n",
       "    <tr>\n",
       "      <th>1</th>\n",
       "      <td>2005-06</td>\n",
       "      <td>NC</td>\n",
       "      <td>North Carolina</td>\n",
       "      <td>99</td>\n",
       "      <td>All Sectors</td>\n",
       "      <td>SUB</td>\n",
       "      <td>subbituminous coal</td>\n",
       "      <td>None</td>\n",
       "      <td>thousand megawatthours</td>\n",
       "      <td>None</td>\n",
       "      <td>thousand short tons</td>\n",
       "    </tr>\n",
       "  </tbody>\n",
       "</table>\n",
       "</div>"
      ],
      "text/plain": [
       "    period location stateDescription  sectorid sectorDescription fueltypeid   \n",
       "0  2005-05       NC   North Carolina        99       All Sectors        SUB  \\\n",
       "1  2005-06       NC   North Carolina        99       All Sectors        SUB   \n",
       "\n",
       "  fuelTypeDescription generation        generation-units total-consumption   \n",
       "0  subbituminous coal       None  thousand megawatthours              None  \\\n",
       "1  subbituminous coal       None  thousand megawatthours              None   \n",
       "\n",
       "  total-consumption-units  \n",
       "0     thousand short tons  \n",
       "1     thousand short tons  "
      ]
     },
     "execution_count": 9,
     "metadata": {},
     "output_type": "execute_result"
    }
   ],
   "source": [
    "df.head()"
   ]
  }
 ],
 "metadata": {
  "kernelspec": {
   "display_name": "eia-client-NsOqrQbS",
   "language": "python",
   "name": "python3"
  },
  "language_info": {
   "codemirror_mode": {
    "name": "ipython",
    "version": 3
   },
   "file_extension": ".py",
   "mimetype": "text/x-python",
   "name": "python",
   "nbconvert_exporter": "python",
   "pygments_lexer": "ipython3",
   "version": "3.11.3"
  },
  "orig_nbformat": 4
 },
 "nbformat": 4,
 "nbformat_minor": 2
}
