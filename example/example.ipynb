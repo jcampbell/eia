{
 "cells": [
  {
   "cell_type": "code",
   "execution_count": 1,
   "metadata": {},
   "outputs": [],
   "source": [
    "# Huge thanks to the EIA for providing this API\n",
    "# See https://www.eia.gov/opendata/documentation.php for detailed API documentation\n",
    "\n",
    "from eia import Client"
   ]
  },
  {
   "cell_type": "code",
   "execution_count": 2,
   "metadata": {},
   "outputs": [],
   "source": [
    "client = Client()"
   ]
  },
  {
   "cell_type": "code",
   "execution_count": 3,
   "metadata": {},
   "outputs": [
    {
     "data": {
      "text/plain": [
       "[RouteInfo(id='retail-sales', name='Electricity Sales to Ultimate Customers', description='Electricity sales to ultimate customer by state and sector (number of customers, average price, revenue, and megawatthours of sales).  \\n    Sources: Forms EIA-826, EIA-861, EIA-861M'),\n",
       " RouteInfo(id='electric-power-operational-data', name='Electric Power Operations (Annual and Monthly)', description='Monthly and annual electric power operations by state, sector, and energy source.\\n    Source: Form EIA-923'),\n",
       " RouteInfo(id='rto', name='Electric Power Operations (Daily and Hourly)', description='Hourly and daily electric power operations by balancing authority.  \\n    Source: Form EIA-930'),\n",
       " RouteInfo(id='state-electricity-profiles', name='State Specific Data', description='State Specific Data'),\n",
       " RouteInfo(id='operating-generator-capacity', name='Inventory of Operable Generators', description='Inventory of operable generators in the U.S.\\n    Source: Forms EIA-860, EIA-860M'),\n",
       " RouteInfo(id='facility-fuel', name='Electric Power Operations for Individual Power Plants (Annual and Monthly)', description='Annual and monthly electric power operations for individual power plants, by energy source and prime mover\\n    Source: Form EIA-923')]"
      ]
     },
     "execution_count": 3,
     "metadata": {},
     "output_type": "execute_result"
    }
   ],
   "source": [
    "# Dataset Info includes all non-leaf-node data series (i.e. parents of other datasets or of series)\n",
    "electricity = client.dataset_info(\"electricity\")\n",
    "# Routes are child datasets or series inside a dataset\n",
    "electricity.routes"
   ]
  },
  {
   "cell_type": "code",
   "execution_count": 4,
   "metadata": {},
   "outputs": [
    {
     "data": {
      "text/plain": [
       "{'location': [FacetOption(id='NC', name='North Carolina', alias='(NC) North Carolina'),\n",
       "  FacetOption(id='HI', name='Hawaii', alias='(HI) Hawaii'),\n",
       "  FacetOption(id='ENC', name='East North Central', alias='Region: (ENC) East North Central'),\n",
       "  FacetOption(id='MA', name='Massachusetts', alias='(MA) Massachusetts'),\n",
       "  FacetOption(id='WNC', name='West North Central', alias='Region: (WNC) West North Central'),\n",
       "  FacetOption(id='VT', name='Vermont', alias='(VT) Vermont'),\n",
       "  FacetOption(id='WA', name='Washington', alias='(WA) Washington'),\n",
       "  FacetOption(id='MTN', name='Mountain', alias='Region: (MTN) Mountain'),\n",
       "  FacetOption(id='MN', name='Minnesota', alias='(MN) Minnesota'),\n",
       "  FacetOption(id='US', name='U.S. Total', alias='Total: (US) U.S. Total'),\n",
       "  FacetOption(id='SAT', name='South Atlantic', alias='Region: (SAT) South Atlantic'),\n",
       "  FacetOption(id='MD', name='Maryland', alias='(MD) Maryland'),\n",
       "  FacetOption(id='VA', name='Virginia', alias='(VA) Virginia'),\n",
       "  FacetOption(id='DC', name='District of Columbia', alias='(DC) District of Columbia'),\n",
       "  FacetOption(id='MS', name='Mississippi', alias='(MS) Mississippi'),\n",
       "  FacetOption(id='NM', name='New Mexico', alias='(NM) New Mexico'),\n",
       "  FacetOption(id='MO', name='Missouri', alias='(MO) Missouri'),\n",
       "  FacetOption(id='IL', name='Illinois', alias='(IL) Illinois'),\n",
       "  FacetOption(id='NE', name='Nebraska', alias='(NE) Nebraska'),\n",
       "  FacetOption(id='CT', name='Connecticut', alias='(CT) Connecticut'),\n",
       "  FacetOption(id='ID', name='Idaho', alias='(ID) Idaho'),\n",
       "  FacetOption(id='UT', name='Utah', alias='(UT) Utah'),\n",
       "  FacetOption(id='MAT', name='Middle Atlantic', alias='Region: (MAT) Middle Atlantic'),\n",
       "  FacetOption(id='ME', name='Maine', alias='(ME) Maine'),\n",
       "  FacetOption(id='AL', name='Alabama', alias='(AL) Alabama'),\n",
       "  FacetOption(id='90', name='Pacific', alias='(90) Pacific'),\n",
       "  FacetOption(id='PCN', name='Pacific Noncontiguous', alias='Region: (PCN) Pacific Noncontiguous'),\n",
       "  FacetOption(id='DE', name='Delaware', alias='(DE) Delaware'),\n",
       "  FacetOption(id='WY', name='Wyoming', alias='(WY) Wyoming'),\n",
       "  FacetOption(id='OH', name='Ohio', alias='(OH) Ohio'),\n",
       "  FacetOption(id='KY', name='Kentucky', alias='(KY) Kentucky'),\n",
       "  FacetOption(id='MI', name='Michigan', alias='(MI) Michigan'),\n",
       "  FacetOption(id='WV', name='West Virginia', alias='(WV) West Virginia'),\n",
       "  FacetOption(id='IA', name='Iowa', alias='(IA) Iowa'),\n",
       "  FacetOption(id='TN', name='Tennessee', alias='(TN) Tennessee'),\n",
       "  FacetOption(id='CA', name='California', alias='(CA) California'),\n",
       "  FacetOption(id='CO', name='Colorado', alias='(CO) Colorado'),\n",
       "  FacetOption(id='AZ', name='Arizona', alias='(AZ) Arizona'),\n",
       "  FacetOption(id='RI', name='Rhode Island', alias='(RI) Rhode Island'),\n",
       "  FacetOption(id='NEW', name='New England', alias='Region: (NEW) New England'),\n",
       "  FacetOption(id='MT', name='Montana', alias='(MT) Montana'),\n",
       "  FacetOption(id='ND', name='North Dakota', alias='(ND) North Dakota'),\n",
       "  FacetOption(id='TX', name='Texas', alias='(TX) Texas'),\n",
       "  FacetOption(id='PCC', name='Pacific Contiguous', alias='Region: (PCC) Pacific Contiguous'),\n",
       "  FacetOption(id='GA', name='Georgia', alias='(GA) Georgia'),\n",
       "  FacetOption(id='OK', name='Oklahoma', alias='(OK) Oklahoma'),\n",
       "  FacetOption(id='WSC', name='West South Central', alias='Region: (WSC) West South Central'),\n",
       "  FacetOption(id='WI', name='Wisconsin', alias='(WI) Wisconsin'),\n",
       "  FacetOption(id='LA', name='Louisiana', alias='(LA) Louisiana'),\n",
       "  FacetOption(id='OR', name='Oregon', alias='(OR) Oregon'),\n",
       "  FacetOption(id='SC', name='South Carolina', alias='(SC) South Carolina'),\n",
       "  FacetOption(id='NJ', name='New Jersey', alias='(NJ) New Jersey'),\n",
       "  FacetOption(id='NH', name='New Hampshire', alias='(NH) New Hampshire'),\n",
       "  FacetOption(id='FL', name='Florida', alias='(FL) Florida'),\n",
       "  FacetOption(id='AK', name='Alaska', alias='(AK) Alaska'),\n",
       "  FacetOption(id='IN', name='Indiana', alias='(IN) Indiana'),\n",
       "  FacetOption(id='NV', name='Nevada', alias='(NV) Nevada'),\n",
       "  FacetOption(id='SD', name='South Dakota', alias='(SD) South Dakota'),\n",
       "  FacetOption(id='PA', name='Pennsylvania', alias='(PA) Pennsylvania'),\n",
       "  FacetOption(id='NY', name='New York', alias='(NY) New York'),\n",
       "  FacetOption(id='ESC', name='East South Central', alias='Region: (ESC) East South Central'),\n",
       "  FacetOption(id='AR', name='Arkansas', alias='(AR) Arkansas'),\n",
       "  FacetOption(id='KS', name='Kansas', alias='(KS) Kansas'),\n",
       "  FacetOption(id='PR', name='Puerto Rico', alias='(PR) Puerto Rico')],\n",
       " 'sectorid': [FacetOption(id='97', name='All Industrial', alias='(97) All Industrial'),\n",
       "  FacetOption(id='99', name='All Sectors', alias='(99) All Sectors'),\n",
       "  FacetOption(id='5', name='Commercial CHP', alias='(5) Commercial CHP'),\n",
       "  FacetOption(id='98', name='Electric Power', alias='(98) Electric Power'),\n",
       "  FacetOption(id='90', name='Electric Power Sector Non-CHP', alias='(90) Electric Power Sector Non-CHP'),\n",
       "  FacetOption(id='6', name='Industrial Non-CHP', alias='(6) Industrial Non-CHP'),\n",
       "  FacetOption(id='96', name='All Commercial', alias='(96) All Commercial'),\n",
       "  FacetOption(id='3', name='IPP CHP', alias='(3) IPP CHP'),\n",
       "  FacetOption(id='4', name='Commercial Non-CHP', alias='(4) Commercial Non-CHP'),\n",
       "  FacetOption(id='7', name='Industrial CHP', alias='(7) Industrial CHP'),\n",
       "  FacetOption(id='95', name='Coal Consumption', alias='(95) Coal Consumption'),\n",
       "  FacetOption(id='2', name='IPP Non-CHP', alias='(2) IPP Non-CHP'),\n",
       "  FacetOption(id='94', name='Independent Power Producers', alias='(94) Independent Power Producers'),\n",
       "  FacetOption(id='8', name='Residential', alias='(8) Residential'),\n",
       "  FacetOption(id='1', name='Electric Utility', alias='(1) Electric Utility')],\n",
       " 'fueltypeid': [FacetOption(id='RC', name='refined coal', alias=None),\n",
       "  FacetOption(id='OBW', name='biomass', alias=None),\n",
       "  FacetOption(id='COL', name='coal, excluding waste coal', alias=None),\n",
       "  FacetOption(id='BIS', name='bituminous coal and synthetic coal', alias=None),\n",
       "  FacetOption(id='OOG', name='other gases', alias=None),\n",
       "  FacetOption(id='OTH', name='other', alias=None),\n",
       "  FacetOption(id='ALL', name='all fuels', alias=None),\n",
       "  FacetOption(id='FOS', name='fossil fuels', alias=None),\n",
       "  FacetOption(id='MLG', name='municiapl landfill gas', alias=None),\n",
       "  FacetOption(id='PC', name='petroleum coke', alias=None),\n",
       "  FacetOption(id='PEL', name='petroleum liquids', alias=None),\n",
       "  FacetOption(id='SUN', name='solar', alias=None),\n",
       "  FacetOption(id='WWW', name='wood and wood wastes', alias=None),\n",
       "  FacetOption(id='BIT', name='bituminous coal', alias=None),\n",
       "  FacetOption(id='ANT', name='anthracite coal', alias=None),\n",
       "  FacetOption(id='SPV', name='solar photovoltaic', alias=None),\n",
       "  FacetOption(id='WAS', name='renewable waste products', alias=None),\n",
       "  FacetOption(id='DFO', name='distillate fuel oil', alias=None),\n",
       "  FacetOption(id='BIO', name='biomass', alias=None),\n",
       "  FacetOption(id='LFG', name='landfill gas', alias=None),\n",
       "  FacetOption(id='OB2', name='biomass', alias=None),\n",
       "  FacetOption(id='GEO', name='geothermal', alias=None),\n",
       "  FacetOption(id='SUB', name='subbituminous coal', alias=None),\n",
       "  FacetOption(id='COW', name='all coal products', alias=None),\n",
       "  FacetOption(id='AOR', name='all renewables', alias=None),\n",
       "  FacetOption(id='NG', name='natural gas', alias=None),\n",
       "  FacetOption(id='MSB', name='biogenic municipal solid waste', alias=None),\n",
       "  FacetOption(id='WNS', name='offshore wind turbine', alias=None),\n",
       "  FacetOption(id='ORW', name='other renewables', alias=None),\n",
       "  FacetOption(id='RFO', name='residual fuel oil', alias=None),\n",
       "  FacetOption(id='WND', name='wind', alias=None),\n",
       "  FacetOption(id='HYC', name='conventional hydroelectric', alias=None),\n",
       "  FacetOption(id='WOC', name='waste coal', alias=None),\n",
       "  FacetOption(id='WOO', name='waste oil and other oils', alias=None),\n",
       "  FacetOption(id='HPS', name='hydro-electric pumped storage', alias=None),\n",
       "  FacetOption(id='NGO', name='natural gas & other gases', alias=None),\n",
       "  FacetOption(id='STH', name='solar thermal', alias=None),\n",
       "  FacetOption(id='PET', name='petroleum', alias=None),\n",
       "  FacetOption(id='REN', name='renewable', alias=None),\n",
       "  FacetOption(id='TPV', name='estimated total solar photovoltaic', alias=None),\n",
       "  FacetOption(id='WNT', name='onshore wind turbine', alias=None),\n",
       "  FacetOption(id='NUC', name='nuclear', alias=None),\n",
       "  FacetOption(id='LIG', name='lignite coal', alias=None),\n",
       "  FacetOption(id='TSN', name='estimated total solar', alias=None),\n",
       "  FacetOption(id='DPV', name='estimated small scale solar photovoltaic', alias=None)]}"
      ]
     },
     "execution_count": 4,
     "metadata": {},
     "output_type": "execute_result"
    }
   ],
   "source": [
    "# Series Info includes data series with specific data elements and facets\n",
    "operational = client.series_info(\"electricity/electric-power-operational-data\")\n",
    "# facet_options includes information on specific values for facets\n",
    "operational.facet_options"
   ]
  },
  {
   "cell_type": "code",
   "execution_count": 5,
   "metadata": {},
   "outputs": [
    {
     "data": {
      "text/plain": [
       "{'value': DataInfo(alias=None, units=None)}"
      ]
     },
     "execution_count": 5,
     "metadata": {},
     "output_type": "execute_result"
    }
   ],
   "source": [
    "# Set get_facet_info to False to avoid retrieving available *values* for facets\n",
    "# The available facets are still returned in the original info request\n",
    "info = client.series_info(\"petroleum/pri/gnd\", get_facet_info=False)\n",
    "# The data attribute gives available data fields for the series\n",
    "info.data"
   ]
  },
  {
   "cell_type": "code",
   "execution_count": 6,
   "metadata": {},
   "outputs": [
    {
     "data": {
      "text/plain": [
       "[FacetInfo(id='location', description='State / Census Region'),\n",
       " FacetInfo(id='sectorid', description='Sector'),\n",
       " FacetInfo(id='fueltypeid', description='Energy Source')]"
      ]
     },
     "execution_count": 6,
     "metadata": {},
     "output_type": "execute_result"
    }
   ],
   "source": [
    "# Info responses are cached, so the second call is much faster\n",
    "operational = client.series_info(\"electricity/electric-power-operational-data\")\n",
    "operational.facets"
   ]
  },
  {
   "cell_type": "code",
   "execution_count": 7,
   "metadata": {},
   "outputs": [
    {
     "data": {
      "text/html": [
       "<div>\n",
       "<style scoped>\n",
       "    .dataframe tbody tr th:only-of-type {\n",
       "        vertical-align: middle;\n",
       "    }\n",
       "\n",
       "    .dataframe tbody tr th {\n",
       "        vertical-align: top;\n",
       "    }\n",
       "\n",
       "    .dataframe thead th {\n",
       "        text-align: right;\n",
       "    }\n",
       "</style>\n",
       "<table border=\"1\" class=\"dataframe\">\n",
       "  <thead>\n",
       "    <tr style=\"text-align: right;\">\n",
       "      <th></th>\n",
       "      <th>period</th>\n",
       "      <th>location</th>\n",
       "      <th>stateDescription</th>\n",
       "      <th>sectorid</th>\n",
       "      <th>sectorDescription</th>\n",
       "      <th>fueltypeid</th>\n",
       "      <th>fuelTypeDescription</th>\n",
       "      <th>generation</th>\n",
       "      <th>generation-units</th>\n",
       "      <th>total-consumption</th>\n",
       "      <th>total-consumption-units</th>\n",
       "    </tr>\n",
       "  </thead>\n",
       "  <tbody>\n",
       "    <tr>\n",
       "      <th>0</th>\n",
       "      <td>2022-12</td>\n",
       "      <td>OH</td>\n",
       "      <td>Ohio</td>\n",
       "      <td>99</td>\n",
       "      <td>All Sectors</td>\n",
       "      <td>SUB</td>\n",
       "      <td>subbituminous coal</td>\n",
       "      <td>38.14917</td>\n",
       "      <td>thousand megawatthours</td>\n",
       "      <td>16.448</td>\n",
       "      <td>thousand short tons</td>\n",
       "    </tr>\n",
       "    <tr>\n",
       "      <th>1</th>\n",
       "      <td>2022-11</td>\n",
       "      <td>MO</td>\n",
       "      <td>Missouri</td>\n",
       "      <td>1</td>\n",
       "      <td>Electric Utility</td>\n",
       "      <td>SUB</td>\n",
       "      <td>subbituminous coal</td>\n",
       "      <td>2392.41242</td>\n",
       "      <td>thousand megawatthours</td>\n",
       "      <td>1409.334</td>\n",
       "      <td>thousand short tons</td>\n",
       "    </tr>\n",
       "    <tr>\n",
       "      <th>2</th>\n",
       "      <td>2022-11</td>\n",
       "      <td>KY</td>\n",
       "      <td>Kentucky</td>\n",
       "      <td>98</td>\n",
       "      <td>Electric Power</td>\n",
       "      <td>SUB</td>\n",
       "      <td>subbituminous coal</td>\n",
       "      <td>729.52632</td>\n",
       "      <td>thousand megawatthours</td>\n",
       "      <td>449.992</td>\n",
       "      <td>thousand short tons</td>\n",
       "    </tr>\n",
       "    <tr>\n",
       "      <th>3</th>\n",
       "      <td>2021-08</td>\n",
       "      <td>ENC</td>\n",
       "      <td>East North Central</td>\n",
       "      <td>1</td>\n",
       "      <td>Electric Utility</td>\n",
       "      <td>SUB</td>\n",
       "      <td>subbituminous coal</td>\n",
       "      <td>2888.14841</td>\n",
       "      <td>thousand megawatthours</td>\n",
       "      <td>1792.265</td>\n",
       "      <td>thousand short tons</td>\n",
       "    </tr>\n",
       "    <tr>\n",
       "      <th>4</th>\n",
       "      <td>2021-08</td>\n",
       "      <td>ENC</td>\n",
       "      <td>East North Central</td>\n",
       "      <td>2</td>\n",
       "      <td>IPP Non-CHP</td>\n",
       "      <td>SUB</td>\n",
       "      <td>subbituminous coal</td>\n",
       "      <td>1923.01959</td>\n",
       "      <td>thousand megawatthours</td>\n",
       "      <td>1225.726</td>\n",
       "      <td>thousand short tons</td>\n",
       "    </tr>\n",
       "  </tbody>\n",
       "</table>\n",
       "</div>"
      ],
      "text/plain": [
       "    period location    stateDescription  sectorid sectorDescription   \n",
       "0  2022-12       OH                Ohio        99       All Sectors  \\\n",
       "1  2022-11       MO            Missouri         1  Electric Utility   \n",
       "2  2022-11       KY            Kentucky        98    Electric Power   \n",
       "3  2021-08      ENC  East North Central         1  Electric Utility   \n",
       "4  2021-08      ENC  East North Central         2       IPP Non-CHP   \n",
       "\n",
       "  fueltypeid fuelTypeDescription  generation        generation-units   \n",
       "0        SUB  subbituminous coal    38.14917  thousand megawatthours  \\\n",
       "1        SUB  subbituminous coal  2392.41242  thousand megawatthours   \n",
       "2        SUB  subbituminous coal   729.52632  thousand megawatthours   \n",
       "3        SUB  subbituminous coal  2888.14841  thousand megawatthours   \n",
       "4        SUB  subbituminous coal  1923.01959  thousand megawatthours   \n",
       "\n",
       "   total-consumption total-consumption-units  \n",
       "0             16.448     thousand short tons  \n",
       "1           1409.334     thousand short tons  \n",
       "2            449.992     thousand short tons  \n",
       "3           1792.265     thousand short tons  \n",
       "4           1225.726     thousand short tons  "
      ]
     },
     "execution_count": 7,
     "metadata": {},
     "output_type": "execute_result"
    }
   ],
   "source": [
    "# Getting data returns a dataframe object\n",
    "df = client.get(\n",
    "    \"electricity/electric-power-operational-data\", \n",
    "    data=[\"generation\", \"total-consumption\"], \n",
    "    facets={\"fueltypeid\": [\"SUB\"]}\n",
    ")\n",
    "df.head()"
   ]
  },
  {
   "cell_type": "code",
   "execution_count": 8,
   "metadata": {},
   "outputs": [
    {
     "data": {
      "text/plain": [
       "74173"
      ]
     },
     "execution_count": 8,
     "metadata": {},
     "output_type": "execute_result"
    }
   ],
   "source": [
    "# We iterate over available records to get all data, using multiple requests if necessary\n",
    "len(df)"
   ]
  },
  {
   "cell_type": "code",
   "execution_count": 9,
   "metadata": {},
   "outputs": [
    {
     "data": {
      "text/html": [
       "<div>\n",
       "<style scoped>\n",
       "    .dataframe tbody tr th:only-of-type {\n",
       "        vertical-align: middle;\n",
       "    }\n",
       "\n",
       "    .dataframe tbody tr th {\n",
       "        vertical-align: top;\n",
       "    }\n",
       "\n",
       "    .dataframe thead th {\n",
       "        text-align: right;\n",
       "    }\n",
       "</style>\n",
       "<table border=\"1\" class=\"dataframe\">\n",
       "  <thead>\n",
       "    <tr style=\"text-align: right;\">\n",
       "      <th></th>\n",
       "      <th>period</th>\n",
       "      <th>location</th>\n",
       "      <th>stateDescription</th>\n",
       "      <th>sectorid</th>\n",
       "      <th>sectorDescription</th>\n",
       "      <th>fueltypeid</th>\n",
       "      <th>fuelTypeDescription</th>\n",
       "      <th>generation</th>\n",
       "      <th>generation-units</th>\n",
       "      <th>total-consumption</th>\n",
       "      <th>total-consumption-units</th>\n",
       "    </tr>\n",
       "  </thead>\n",
       "  <tbody>\n",
       "    <tr>\n",
       "      <th>0</th>\n",
       "      <td>2005-05</td>\n",
       "      <td>NC</td>\n",
       "      <td>North Carolina</td>\n",
       "      <td>99</td>\n",
       "      <td>All Sectors</td>\n",
       "      <td>SUB</td>\n",
       "      <td>subbituminous coal</td>\n",
       "      <td>None</td>\n",
       "      <td>thousand megawatthours</td>\n",
       "      <td>None</td>\n",
       "      <td>thousand short tons</td>\n",
       "    </tr>\n",
       "    <tr>\n",
       "      <th>1</th>\n",
       "      <td>2005-06</td>\n",
       "      <td>NC</td>\n",
       "      <td>North Carolina</td>\n",
       "      <td>99</td>\n",
       "      <td>All Sectors</td>\n",
       "      <td>SUB</td>\n",
       "      <td>subbituminous coal</td>\n",
       "      <td>None</td>\n",
       "      <td>thousand megawatthours</td>\n",
       "      <td>None</td>\n",
       "      <td>thousand short tons</td>\n",
       "    </tr>\n",
       "  </tbody>\n",
       "</table>\n",
       "</div>"
      ],
      "text/plain": [
       "    period location stateDescription  sectorid sectorDescription fueltypeid   \n",
       "0  2005-05       NC   North Carolina        99       All Sectors        SUB  \\\n",
       "1  2005-06       NC   North Carolina        99       All Sectors        SUB   \n",
       "\n",
       "  fuelTypeDescription generation        generation-units total-consumption   \n",
       "0  subbituminous coal       None  thousand megawatthours              None  \\\n",
       "1  subbituminous coal       None  thousand megawatthours              None   \n",
       "\n",
       "  total-consumption-units  \n",
       "0     thousand short tons  \n",
       "1     thousand short tons  "
      ]
     },
     "execution_count": 9,
     "metadata": {},
     "output_type": "execute_result"
    }
   ],
   "source": [
    "df = client.get(\n",
    "    \"electricity/electric-power-operational-data\", \n",
    "    data=[\"generation\", \"total-consumption\"], \n",
    "    facets={\"fueltypeid\": [\"SUB\"], \"location\": [\"NC\"], \"sectorid\": [\"99\"]}\n",
    ")\n",
    "df.head()"
   ]
  }
 ],
 "metadata": {
  "kernelspec": {
   "display_name": "eia-client-NsOqrQbS",
   "language": "python",
   "name": "python3"
  },
  "language_info": {
   "codemirror_mode": {
    "name": "ipython",
    "version": 3
   },
   "file_extension": ".py",
   "mimetype": "text/x-python",
   "name": "python",
   "nbconvert_exporter": "python",
   "pygments_lexer": "ipython3",
   "version": "3.11.3"
  },
  "orig_nbformat": 4
 },
 "nbformat": 4,
 "nbformat_minor": 2
}
